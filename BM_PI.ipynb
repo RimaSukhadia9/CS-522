{
 "cells": [
  {
   "cell_type": "code",
   "execution_count": 32,
   "metadata": {
    "collapsed": false
   },
   "outputs": [],
   "source": [
    "import nltk\n",
    "#from nltk.tokenize import PunktSentenceTokenizer\n",
    "import re\n",
    "from collections import defaultdict\n",
    "import glob\n",
    "import os\n",
    "import sys\n",
    "import numpy as np\n",
    "import pickle\n",
    "\n",
    "import operator\n",
    "import networkx as nx\n",
    "from itertools import *"
   ]
  },
  {
   "cell_type": "code",
   "execution_count": null,
   "metadata": {
    "collapsed": false
   },
   "outputs": [],
   "source": [
    "'''class PageRank_Matrix:\n",
    "    \"Power iteration with random teleports that addresses Spider trap problem or Dead end problem \"\n",
    "    beta = 0.85\n",
    "    epsilon = 0.0001\n",
    "     \n",
    "    def __init__(self, beta=0.85, epsilon=0.0001):\n",
    "        print(self)\n",
    "        self.beta = beta\n",
    "        self.epsilon = epsilon\n",
    " \n",
    "    def distance(self, v1, v2):\n",
    "        v = v1 - v2\n",
    "        v = v * v\n",
    "        return np.sum(v)\n",
    "    compute(G)\n",
    "    def compute(self, G):\n",
    "        \"G is N*N matrix where if j links to i then G[i][j]==1, else G[i][j]==0\"\n",
    "        N = len(G)\n",
    "        d = np.zeros(N)\n",
    "        for i in range(N):\n",
    "            for j in range(N):\n",
    "                if (G[j, i] == 1):\n",
    "                    d[i] += 1\n",
    "            if d[i]==0:   # i is dead end, teleport always\n",
    "                d[i] = N\n",
    " \n",
    "        r0 = np.zeros(N, dtype=np.float32) + 1.0 / N\n",
    "        # construct stochastic M\n",
    "        M = np.zeros((N, N), dtype=np.float32)\n",
    "        for i in range(N):\n",
    "            if (d[i]==N):  # i is dead end\n",
    "                for j in range(N):\n",
    "                    M[j, i] = 1.0 / d[i]\n",
    "            else:\n",
    "                for j in range(N):\n",
    "                    if G[j, i] == 1:\n",
    "                        M[j, i] = 1.0 / d[i]\n",
    " \n",
    "        T = (1.0 - self.beta) * (1.0 / N) * (np.zeros((N, N), dtype=np.float32) + 1.0)\n",
    "        A = self.beta * M +  T\n",
    "        while True:\n",
    "            r1 = np.dot(A, r0)\n",
    "            dist = self.distance(r1, r0)\n",
    "            if dist < self.epsilon:\n",
    "                break\n",
    "            else:\n",
    "                r0 = r1\n",
    " \n",
    "        return r1\n",
    "G = np.array([[0,0,1,0,0,0,0],\n",
    "                  [0,1,1,0,0,0,0],\n",
    "                  [1,0,1,1,0,0,0],\n",
    "                  [0,0,0,1,1,0,0],\n",
    "                  [0,0,0,0,0,0,1],\n",
    "                  [0,0,0,0,0,1,1],\n",
    "                  [0,0,0,1,1,0,1]])\n",
    "compute(self,G)\n",
    "'''\n",
    "def compute(G):\n",
    "    N = len(G)\n",
    "    d = np.zeros(N)\n",
    "    for i in range(N):\n",
    "        for j in range(N):\n",
    "            if (G[j, i] == 1):\n",
    "                d[i] += 1\n",
    "            if d[i]==0:   # i is dead end, teleport always\n",
    "                d[i] = N\n",
    " \n",
    "        r0 = np.zeros(N, dtype=np.float32) + 1.0 / N\n",
    "        # construct stochastic M\n",
    "        M = np.zeros((N, N), dtype=np.float32)\n",
    "        for i in range(N):\n",
    "            if (d[i]==N):  # i is dead end\n",
    "                for j in range(N):\n",
    "                    M[j, i] = 1.0 / d[i]\n",
    "            else:\n",
    "                for j in range(N):\n",
    "                    if G[j, i] == 1:\n",
    "                        M[j, i] = 1.0 / d[i]\n",
    " \n",
    "        T = (1.0 - beta) * (1.0 / N) * (np.zeros((N, N), dtype=np.float32) + 1.0)\n",
    "        A = beta * M +  T\n",
    "        while True:\n",
    "            r1 = np.dot(A, r0)\n",
    "            dist = distance(r1, r0)\n",
    "            if dist < epsilon:\n",
    "                break\n",
    "            else:\n",
    "                r0 = r1\n",
    " \n",
    "        return r1\n",
    "\n"
   ]
  },
  {
   "cell_type": "code",
   "execution_count": null,
   "metadata": {
    "collapsed": false
   },
   "outputs": [
    {
     "name": "stderr",
     "output_type": "stream",
     "text": [
      "C:\\Users\\Rima\\Anaconda3\\lib\\site-packages\\ipykernel\\__main__.py:79: RuntimeWarning: divide by zero encountered in double_scalars\n",
      "C:\\Users\\Rima\\Anaconda3\\lib\\site-packages\\ipykernel\\__main__.py:7: RuntimeWarning: invalid value encountered in subtract\n",
      "C:\\Users\\Rima\\Anaconda3\\lib\\site-packages\\ipykernel\\__main__.py:86: RuntimeWarning: invalid value encountered in less\n"
     ]
    }
   ],
   "source": [
    "beta = 0.85\n",
    "epsilon = 0.0001\n",
    "def __init__(beta=0.85, epsilon=0.0001):\n",
    "        beta = beta\n",
    "        epsilon = epsilon\n",
    "def distance(v1, v2):\n",
    "    v = v1 - v2\n",
    "    v = v * v\n",
    "    return np.sum(v)\n",
    "G = np.array([[0,0,1,0,0,0,0],\n",
    "                  [0,1,1,0,0,0,0],\n",
    "                  [1,0,1,1,0,0,0],\n",
    "                  [0,0,0,1,0,0,0],\n",
    "                  [0,0,0,0,0,0,1],\n",
    "                  [0,0,0,0,0,1,1],\n",
    "                  [0,0,0,1,1,0,1]])\n",
    "compute(G)"
   ]
  },
  {
   "cell_type": "code",
   "execution_count": null,
   "metadata": {
    "collapsed": false
   },
   "outputs": [],
   "source": [
    "'''\n",
    "linklist = []\n",
    "with open(\"Link_NamesCopy.txt\", 'r', encoding = \"utf-8\") as file:\n",
    "    with open('dumpfile','wb') as f:\n",
    "        for line in file.readlines():\n",
    "            linklist = line\n",
    "            pickle.dump(linklist,f)\n",
    "        #for line in file.readlines():\n",
    "        with open(\"dumpfile\", \"\n",
    "                  32rb\") as g:\n",
    "                print(pickle.load(g))\n",
    "objs = []\n",
    "while objs:\n",
    "    try:\n",
    "        g = pickle.load(open(\"dumpfile\", \"rb\"))\n",
    "        print(g)\n",
    "    except EOFError:\n",
    "        break\n",
    "'''"
   ]
  },
  {
   "cell_type": "code",
   "execution_count": null,
   "metadata": {
    "collapsed": false
   },
   "outputs": [],
   "source": [
    " \"Power iteration with random teleports that addresses Spider trap problem or Dead end problem \"\n",
    "\n",
    "\n"
   ]
  },
  {
   "cell_type": "code",
   "execution_count": null,
   "metadata": {
    "collapsed": true
   },
   "outputs": [],
   "source": []
  },
  {
   "cell_type": "code",
   "execution_count": null,
   "metadata": {
    "collapsed": true
   },
   "outputs": [],
   "source": []
  }
 ],
 "metadata": {
  "anaconda-cloud": {},
  "kernelspec": {
   "display_name": "Python [Root]",
   "language": "python",
   "name": "Python [Root]"
  },
  "language_info": {
   "codemirror_mode": {
    "name": "ipython",
    "version": 3
   },
   "file_extension": ".py",
   "mimetype": "text/x-python",
   "name": "python",
   "nbconvert_exporter": "python",
   "pygments_lexer": "ipython3",
   "version": "3.5.2"
  }
 },
 "nbformat": 4,
 "nbformat_minor": 0
}
