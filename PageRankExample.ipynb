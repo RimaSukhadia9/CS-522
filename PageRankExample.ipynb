{
 "cells": [
  {
   "cell_type": "code",
   "execution_count": 26,
   "metadata": {
    "collapsed": false
   },
   "outputs": [
    {
     "name": "stdout",
     "output_type": "stream",
     "text": [
      "[ nan  nan  nan  nan  nan  nan  nan]\n"
     ]
    },
    {
     "name": "stderr",
     "output_type": "stream",
     "text": [
      "C:\\Users\\Rima\\Anaconda3\\lib\\site-packages\\ipykernel\\__main__.py:35: RuntimeWarning: invalid value encountered in subtract\n",
      "C:\\Users\\Rima\\Anaconda3\\lib\\site-packages\\ipykernel\\__main__.py:49: RuntimeWarning: invalid value encountered in true_divide\n"
     ]
    }
   ],
   "source": [
    "import numpy as np\n",
    "from scipy.sparse import csc_matrix\n",
    "\n",
    "\n",
    "def pageRank(G, s = .85, maxerr = .001):\n",
    "    \"\"\"\n",
    "    Computes the pagerank for each of the n states.\n",
    "    Used in webpage ranking and text summarization using unweighted\n",
    "    or weighted transitions respectively.\n",
    "    Args\n",
    "    ----------\n",
    "    G: matrix representing state transitions\n",
    "       Gij can be a boolean or non negative real number representing the\n",
    "       transition weight from state i to j.\n",
    "    Kwargs\n",
    "    ----------\n",
    "    s: probability of following a transition. 1-s probability of teleporting\n",
    "       to another state. Defaults to 0.85\n",
    "    maxerr: if the sum of pageranks between iterations is bellow this we will\n",
    "            have converged. Defaults to 0.001\n",
    "    \"\"\"\n",
    "    n = G.shape[0]\n",
    "\n",
    "    # transform G into markov matrix M\n",
    "    M = csc_matrix(G,dtype=np.float)\n",
    "    rsums = np.array(M.sum(1))[:,0]\n",
    "    ri, ci = M.nonzero()\n",
    "    M.data /= rsums[ri]\n",
    "\n",
    "    # bool array of sink states\n",
    "    sink = rsums==0\n",
    "\n",
    "    # Compute pagerank r until we converge\n",
    "    ro, r = np.zeros(n), np.ones(n)\n",
    "    while np.sum(np.abs(r-ro)) > maxerr:\n",
    "        ro = r.copy()\n",
    "        # calculate each pagerank at a time\n",
    "        for i in range(0,n):\n",
    "            # inlinks of state i\n",
    "            Ii = np.array(M[:,i].todense())[:,0]\n",
    "            # account for sink states\n",
    "            Si = sink / float(n)\n",
    "            # account for teleportation to state i\n",
    "            Ti = np.ones(n) / float(n)\n",
    "\n",
    "            r[i] = ro.dot( Ii*s + Si*s + Ti*(1-s) )\n",
    "\n",
    "    # return normalized pagerank\n",
    "    return r/sum(r)\n",
    "\n",
    "beta = 0.85\n",
    "epsilon = 0.0001\n",
    "\n",
    "def distance(v1, v2):\n",
    "    v = v1 - v2\n",
    "    v = v * v\n",
    "    return np.sum(v)\n",
    "\n",
    "def compute(G,r0):\n",
    "    G\n",
    "    \"G is N*N matrix where if j links to i then G[i][j]==1, else G[i][j]==0\"\n",
    "    N = len(G)\n",
    "    # print N\n",
    "    d = np.zeros(N)\n",
    "    # print d\n",
    "\n",
    "    #Calculate the sum of columns, if 0 then make it as N\n",
    "    for i in range(N):\n",
    "        for j in range(N):\n",
    "            if (G[j, i] > 0):\n",
    "                d[i] += G[j, i]\n",
    "                #print d[i]\n",
    "        #print d\n",
    "        if d[i]==0:   # i is dead end, teleport always\n",
    "            d[i] = N\n",
    "    #print d\n",
    "\n",
    "    #Initial vector\n",
    "    r0 = np.zeros(N, dtype=np.float32) + 1.0 / N\n",
    "    #print r0\n",
    "    \n",
    "    # construct stochastic M (Normalise matrix M)\n",
    "    M = np.zeros((N, N), dtype=np.float32)\n",
    "    #print M\n",
    "    for i in range(N):\n",
    "        if (d[i]==N):  # i is dead end\n",
    "            for j in range(N):\n",
    "                M[j, i] = 1.0 / d[i]\n",
    "        else:\n",
    "            for j in range(N):\n",
    "                if G[j, i] > 0:\n",
    "                    M[j, i] = G[j, i] / d[i]\n",
    "        #print M\n",
    "\n",
    "    #Page rank Equation\n",
    "    T = (1.0 - beta) * (1.0 / N) * (np.zeros((N, N), dtype=np.float32) + 1.0)\n",
    "    #print beta\n",
    "    A = beta * M + T\n",
    "    cnt=0\n",
    "    while True:\n",
    "        r1 = np.dot(A, r0)\n",
    "        dist = distance(r1, r0)\n",
    "        cnt +=1\n",
    "        if dist < epsilon:\n",
    "            break\n",
    "        else:\n",
    "            r0 = r1\n",
    "    #print r1\n",
    "    #print(G)\n",
    "    #return r1,cnt\n",
    "dict4 = {}\n",
    "\n",
    "\n",
    "if __name__=='__main__':\n",
    "    # Example extracted from 'Introduction to Information Retrieval'\n",
    "    G = np.array([[0,0,1,0,0,0,0],\n",
    "                  [0,1,1,0,0,0,0],\n",
    "                  [1,0,1,5,0,0,0],\n",
    "                  [0,0,0,1,1,0,0],\n",
    "                  [0,0,0,0,0,0,0],\n",
    "                  [0,0,0,0,0,4,1],\n",
    "                  [0,0,0,1,1,0,1]])\n",
    "\n",
    "    print (pageRank(G,s=.86))\n",
    "    #print(compute(G, ro))"
   ]
  },
  {
   "cell_type": "code",
   "execution_count": 16,
   "metadata": {
    "collapsed": true
   },
   "outputs": [],
   "source": [
    "ro = np.zeros(len(G))\n",
    "ro = ro / ro.shape[0]"
   ]
  },
  {
   "cell_type": "code",
   "execution_count": 17,
   "metadata": {
    "collapsed": false
   },
   "outputs": [
    {
     "data": {
      "text/plain": [
       "array([ 0.,  0.,  0.,  0.,  0.,  0.,  0.])"
      ]
     },
     "execution_count": 17,
     "metadata": {},
     "output_type": "execute_result"
    }
   ],
   "source": [
    "ro"
   ]
  },
  {
   "cell_type": "code",
   "execution_count": 18,
   "metadata": {
    "collapsed": false
   },
   "outputs": [
    {
     "name": "stdout",
     "output_type": "stream",
     "text": [
      "None\n"
     ]
    }
   ],
   "source": [
    "print(compute(G, ro))"
   ]
  },
  {
   "cell_type": "code",
   "execution_count": null,
   "metadata": {
    "collapsed": false
   },
   "outputs": [],
   "source": []
  },
  {
   "cell_type": "code",
   "execution_count": null,
   "metadata": {
    "collapsed": true
   },
   "outputs": [],
   "source": []
  }
 ],
 "metadata": {
  "anaconda-cloud": {},
  "kernelspec": {
   "display_name": "Python [Root]",
   "language": "python",
   "name": "Python [Root]"
  },
  "language_info": {
   "codemirror_mode": {
    "name": "ipython",
    "version": 3
   },
   "file_extension": ".py",
   "mimetype": "text/x-python",
   "name": "python",
   "nbconvert_exporter": "python",
   "pygments_lexer": "ipython3",
   "version": "3.5.2"
  }
 },
 "nbformat": 4,
 "nbformat_minor": 0
}
