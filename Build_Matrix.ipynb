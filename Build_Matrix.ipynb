{
 "cells": [
  {
   "cell_type": "code",
   "execution_count": 1,
   "metadata": {
    "collapsed": false
   },
   "outputs": [
    {
     "data": {
      "text/plain": [
       "'\\nimport random\\na = [1,1,1,6,1,1,4,4,3,2,0,10,5]\\nfrom itertools import groupby\\nk = [len(list(group)) for key, group in groupby(a)]\\n\\nm = [k for x in range(len(k))]\\ns=groupby(a)\\ns\\nk\\n\\ncount=0\\nfor i in range(len(a)):\\n    for j in range(len(a)):\\n        if a[i] == a[j]:\\n            count+=1\\n            #a[i]=count\\n            x = [[count for i in range(len(k))] for j in range(len(k))]\\n            print(count)\\n\\nprint(len(x))\\nx\\n\\nfrom math import sqrt\\nfrom random import random\\nA = [[1,1,1,6,2,1,5,4,3,2,0,10,5]]\\nb = [random() for i in range(len(A))]\\ntmp = [0] * len(A)\\n\\nfor iteration in range(10000):\\n\\n        for i in range(0, len(A)):\\n            tmp[i] = 0\\n            for j in range(0, len(A)):\\n                tmp[i] += A[i][j] * b[j]\\n\\n        normSq = 0\\n        for k in range(0, len(A)):\\n            normSq += tmp[k] * tmp[k]\\n        norm = sqrt(normSq)\\n\\n        for i in range(len(A)):\\n            b[i] = tmp[i] / norm\\nprint(b)\\n\\nimport random\\n\\npowerIteration(a)\\nfor i, j in enumerate(a[:-1]):\\n    if j  == a[i+1]: \\n        a[i] = \"foo\" \\n        a[i+1] = \"foo\"\\nprint(a)\\n\\nfor x in range(len(a)):\\n    row = []\\n    for y in range(len(a)):\\n        row.append(0)\\n    a.append(row)\\na\\n'"
      ]
     },
     "execution_count": 1,
     "metadata": {},
     "output_type": "execute_result"
    }
   ],
   "source": [
    "'''\n",
    "import random\n",
    "a = [1,1,1,6,1,1,4,4,3,2,0,10,5]\n",
    "from itertools import groupby\n",
    "k = [len(list(group)) for key, group in groupby(a)]\n",
    "\n",
    "m = [k for x in range(len(k))]\n",
    "s=groupby(a)\n",
    "s\n",
    "k\n",
    "\n",
    "count=0\n",
    "for i in range(len(a)):\n",
    "    for j in range(len(a)):\n",
    "        if a[i] == a[j]:\n",
    "            count+=1\n",
    "            #a[i]=count\n",
    "            x = [[count for i in range(len(k))] for j in range(len(k))]\n",
    "            print(count)\n",
    "\n",
    "print(len(x))\n",
    "x\n",
    "\n",
    "from math import sqrt\n",
    "from random import random\n",
    "A = [[1,1,1,6,2,1,5,4,3,2,0,10,5]]\n",
    "b = [random() for i in range(len(A))]\n",
    "tmp = [0] * len(A)\n",
    "\n",
    "for iteration in range(10000):\n",
    "\n",
    "        for i in range(0, len(A)):\n",
    "            tmp[i] = 0\n",
    "            for j in range(0, len(A)):\n",
    "                tmp[i] += A[i][j] * b[j]\n",
    "\n",
    "        normSq = 0\n",
    "        for k in range(0, len(A)):\n",
    "            normSq += tmp[k] * tmp[k]\n",
    "        norm = sqrt(normSq)\n",
    "\n",
    "        for i in range(len(A)):\n",
    "            b[i] = tmp[i] / norm\n",
    "print(b)\n",
    "\n",
    "import random\n",
    "\n",
    "powerIteration(a)\n",
    "for i, j in enumerate(a[:-1]):\n",
    "    if j  == a[i+1]: \n",
    "        a[i] = \"foo\" \n",
    "        a[i+1] = \"foo\"\n",
    "print(a)\n",
    "\n",
    "for x in range(len(a)):\n",
    "    row = []\n",
    "    for y in range(len(a)):\n",
    "        row.append(0)\n",
    "    a.append(row)\n",
    "a\n",
    "'''"
   ]
  },
  {
   "cell_type": "code",
   "execution_count": 24,
   "metadata": {
    "collapsed": false
   },
   "outputs": [
    {
     "data": {
      "text/plain": [
       "'\\nc=0\\nN = len(unique_list)\\nd = np.zeros(N)\\nfor i in range(len(arraymat)):\\n    for j in range(N):\\n        #print(\"sf\")\\n        d[i]+=1\\narraymat\\n\\nr0 = np.zeros(N, dtype=np.int32) + 1.0 / N\\nro\\nG = np.array(unique_list)\\nprint(G)\\nM\\n'"
      ]
     },
     "execution_count": 24,
     "metadata": {},
     "output_type": "execute_result"
    }
   ],
   "source": [
    "'''\n",
    "import numpy as np\n",
    "G = [[2,3],[2,3]]\n",
    "G = np.array(G)\n",
    "epsilon = 0.0001\n",
    "\n",
    "def compute(G):\n",
    "   \n",
    "        \"G is N*N matrix where if j links to i then G[i][j]==1, else G[i][j]==0\"\n",
    "        N = len(G)\n",
    "        d = np.zeros(N)\n",
    "        for i in range(N):\n",
    "            for j in range(N):\n",
    "                if (G[j, i] == 1):\n",
    "                    d[i] += 1\n",
    " \n",
    "        r0 = np.zeros(N, dtype=np.float32) + 1.0 / N\n",
    "        # construct stochastic M\n",
    "        M = np.zeros((N, N), dtype=np.float32)\n",
    "        for i in range(N):\n",
    "            for j in range(N):\n",
    "                if G[j, i] == 1:\n",
    "                    M[j, i] = 1.0 / d[i]\n",
    "        while True:\n",
    "            r1 = np.dot(M, r0)\n",
    "            dist = self.distance(r1, r0)\n",
    "            if dist < self.epsilon:\n",
    "                break\n",
    "            else:\n",
    "                r0 = r1\n",
    " \n",
    "        return r1\n",
    "\n",
    "def __init__(self, beta=0.85, epsilon=0.0001):\n",
    "        self.epsilon = epsilon\n",
    "def distance(self, v1, v2):\n",
    "        v = v1 - v2\n",
    "        v = v * v\n",
    "        np.sum(v)\n",
    "compute(G)\n",
    "'''\n",
    "'''\n",
    "c=0\n",
    "N = len(unique_list)\n",
    "d = np.zeros(N)\n",
    "for i in range(len(arraymat)):\n",
    "    for j in range(N):\n",
    "        #print(\"sf\")\n",
    "        d[i]+=1\n",
    "arraymat\n",
    "\n",
    "r0 = np.zeros(N, dtype=np.int32) + 1.0 / N\n",
    "ro\n",
    "G = np.array(unique_list)\n",
    "print(G)\n",
    "M\n",
    "\n",
    "for o,jj in enumerate(count.values()):\n",
    "    \n",
    "    Arrayz.append(jj)\n",
    "'''\n",
    "    \n",
    "    '''for il,ll in enumerate(unique_list):\n",
    "        \n",
    "        sorted(count.items())\n",
    "        \n",
    "        if ll in d:\n",
    "            print(\"ll\",ll)\n",
    "        \n",
    "        else:\n",
    "            print(\"pt\", pt)\n",
    "            count[ll]=0\n",
    "\n",
    "d = np.array(d)\n",
    "d\n",
    "            ''' \n",
    "'''\n",
    "dd = []\n",
    "ap=[]\n",
    "for c,cia in enumerate(arraymat):\n",
    "    dd.append(cia[0])\n",
    "dd.sort()\n",
    "print(dd)\n",
    "#count = collections.Counter(dd)\n",
    "print(count)\n",
    "for o in count.values():\n",
    "    ap.append(o)\n",
    "print(ap)\n",
    "\n",
    "ddu = [\n",
    "   e\n",
    "   for l, e in enumerate(dd)\n",
    "    if dd.index(e) == l\n",
    "    ]\n",
    "print(ddu)\n",
    "dduu = ddu.sort()\n",
    "print(dduu)\n",
    "\n",
    "Arraym = np.zeros((len(unique_list),1), dtype='int32')\n",
    "print(Arraym)\n",
    "for u in range(0,len(unique_list)):\n",
    "    k = unique_list.index(7)\n",
    "    #print(k)\n",
    "    Arraym[k] = Arrayz[k] \n",
    "    \n",
    "print(\"kk\",Arraym)\n",
    "\n",
    "Arrayx = np.array(ap)\n",
    "Arrayx.reshape((len(Arrayx),1))\n",
    "print(Arrayx)\n",
    "k = dd.index(dd[0])\n",
    "m = dd.index(dd[1])\n",
    "\n",
    "'''"
   ]
  },
  {
   "cell_type": "code",
   "execution_count": 23,
   "metadata": {
    "collapsed": false
   },
   "outputs": [
    {
     "name": "stdout",
     "output_type": "stream",
     "text": [
      "Unique list: [4, 5, 6, 7, 8]\n",
      "[[4, 5, 5] [5, 8, 5] [8, 8, 8] [6, 7]]\n",
      "[[0 0 0 0 0]\n",
      " [0 0 0 0 0]\n",
      " [0 0 0 0 0]\n",
      " [0 0 0 0 0]\n",
      " [0 0 0 0 0]]\n"
     ]
    }
   ],
   "source": [
    "#Creating list of list\n",
    "import numpy as np\n",
    "i=0\n",
    "list = [4,5,5,5,8,5,8,8,8,6,7]\n",
    "unique_list = [\n",
    "   e\n",
    "   for l, e in enumerate(list)\n",
    "    if list.index(e) == l\n",
    "    ]\n",
    "f = unique_list.sort()\n",
    "print(\"Unique list:\",unique_list)\n",
    "pids=5\n",
    "listoflist = []\n",
    "while i<len(list):\n",
    "    listoflist.append(list[i:i+3])\n",
    "    i+=3\n",
    "#print(listoflist)\n",
    "\n",
    "#Array matrix of list of list\n",
    "arraymat = np.array(listoflist)\n",
    "print(arraymat)\n",
    "\n",
    "#Sqaure Matrix\n",
    "M = np.zeros((N,N), dtype=np.int32)\n",
    "print(M)"
   ]
  },
  {
   "cell_type": "code",
   "execution_count": 31,
   "metadata": {
    "collapsed": false
   },
   "outputs": [
    {
     "name": "stdout",
     "output_type": "stream",
     "text": [
      "[[1]\n",
      " [1]\n",
      " [1]\n",
      " [0]\n",
      " [1]]\n",
      "[[0 2 0 0 0]\n",
      " [0 2 0 0 1]\n",
      " [0 0 0 1 0]\n",
      " [0 0 0 0 0]\n",
      " [0 1 0 0 3]]\n"
     ]
    }
   ],
   "source": [
    "import collections, numpy\n",
    "from operator import itemgetter\n",
    "\n",
    "M = np.zeros((N, N), dtype=np.int32)\n",
    "\n",
    "d = []\n",
    "Arraypz = []\n",
    "pt=[]\n",
    "\n",
    "for l,dont in enumerate(arraymat):\n",
    "\n",
    "    for fc in range(0,(len(dont)-1)):\n",
    "        \n",
    "        k = unique_list.index(dont[fc])\n",
    "        m = unique_list.index(dont[fc+1])\n",
    "\n",
    "        M[k][m]+=1        \n",
    "        \n",
    "        for tw in range(fc,(len(dont)-2)):\n",
    "            \n",
    "            k = unique_list.index(dont[tw])\n",
    "            m = unique_list.index(dont[tw+2])\n",
    "\n",
    "            M[k][m]+=1\n",
    "        \n",
    "    d.append(dont[0])\n",
    "    d.sort()\n",
    "    count = collections.Counter(d)\n",
    "   \n",
    "          \n",
    " \n",
    "\n",
    "Arraypz = np.zeros((N,1), dtype=\"int32\")\n",
    "\n",
    "for il,ll in enumerate(unique_list):\n",
    "\n",
    "        if ll in d:\n",
    "            pk = unique_list.index(ll)\n",
    "            \n",
    "            Arraypz[pk]=count.get(ll)\n",
    "        else:\n",
    "            pt = unique_list.index(ll)\n",
    "            \n",
    "            count[ll]=0\n",
    "            Arraypz[pt] = 0\n",
    "\n",
    "#print(count)\n",
    "print(Arraypz)\n",
    "print(M)"
   ]
  },
  {
   "cell_type": "code",
   "execution_count": 32,
   "metadata": {
    "collapsed": false
   },
   "outputs": [
    {
     "data": {
      "text/plain": [
       "array([[2],\n",
       "       [3],\n",
       "       [0],\n",
       "       [0],\n",
       "       [4]])"
      ]
     },
     "execution_count": 32,
     "metadata": {},
     "output_type": "execute_result"
    }
   ],
   "source": [
    "#Arraypz.reshape((len(Arraypz),1))\n",
    "FM = np.dot(M,Arraypz)\n",
    "FM"
   ]
  },
  {
   "cell_type": "code",
   "execution_count": 33,
   "metadata": {
    "collapsed": false
   },
   "outputs": [
    {
     "data": {
      "text/plain": [
       "array([[ 1.6],\n",
       "       [ 2.4],\n",
       "       [ 0. ],\n",
       "       [ 0. ],\n",
       "       [ 3.2]])"
      ]
     },
     "execution_count": 33,
     "metadata": {},
     "output_type": "execute_result"
    }
   ],
   "source": [
    "SM=FM*0.8\n",
    "SM"
   ]
  },
  {
   "cell_type": "code",
   "execution_count": 34,
   "metadata": {
    "collapsed": false
   },
   "outputs": [
    {
     "data": {
      "text/plain": [
       "array([[ 1.8],\n",
       "       [ 2.6],\n",
       "       [ 0.2],\n",
       "       [ 0. ],\n",
       "       [ 3.4]])"
      ]
     },
     "execution_count": 34,
     "metadata": {},
     "output_type": "execute_result"
    }
   ],
   "source": [
    "Final = SM + (Arraypz*0.2)\n",
    "Final"
   ]
  },
  {
   "cell_type": "code",
   "execution_count": 35,
   "metadata": {
    "collapsed": false
   },
   "outputs": [
    {
     "data": {
      "text/plain": [
       "array([[  4.36],\n",
       "       [  7.08],\n",
       "       [  0.2 ],\n",
       "       [  0.  ],\n",
       "       [ 10.44]])"
      ]
     },
     "execution_count": 35,
     "metadata": {},
     "output_type": "execute_result"
    }
   ],
   "source": [
    "FinalMatrix = (((np.dot(M,Final)*0.8)+(Arraypz*0.2)))\n",
    "FinalMatrix"
   ]
  },
  {
   "cell_type": "code",
   "execution_count": null,
   "metadata": {
    "collapsed": true
   },
   "outputs": [],
   "source": []
  }
 ],
 "metadata": {
  "anaconda-cloud": {},
  "kernelspec": {
   "display_name": "Python [Root]",
   "language": "python",
   "name": "Python [Root]"
  },
  "language_info": {
   "codemirror_mode": {
    "name": "ipython",
    "version": 3
   },
   "file_extension": ".py",
   "mimetype": "text/x-python",
   "name": "python",
   "nbconvert_exporter": "python",
   "pygments_lexer": "ipython3",
   "version": "3.5.2"
  }
 },
 "nbformat": 4,
 "nbformat_minor": 0
}
