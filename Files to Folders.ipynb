{
 "cells": [
  {
   "cell_type": "code",
   "execution_count": 120,
   "metadata": {
    "collapsed": true
   },
   "outputs": [],
   "source": [
    "import glob\n",
    "import sys\n",
    "import os\n",
    "import shutil\n",
    "from os.path import basename\n",
    "from shutil import copyfile"
   ]
  },
  {
   "cell_type": "code",
   "execution_count": 122,
   "metadata": {
    "collapsed": false
   },
   "outputs": [
    {
     "name": "stdout",
     "output_type": "stream",
     "text": [
      "mdp.39015062797538.json\n",
      "\n",
      "mdp.39015062797538\n",
      "mdp.39015064582888.json\n",
      "\n",
      "mdp.39015064582888\n",
      "nnc1.ar53666712.json\n",
      "nnc1.ar53666712\n"
     ]
    }
   ],
   "source": [
    "extension = \".json\"\n",
    "directory = \"All files\"\n",
    "if not os.path.exists(directory):\n",
    "    os.makedirs(directory)\n",
    "for textFile in glob.glob(\"Folder_File.txt\"):\n",
    "    f = open(textFile)\n",
    "    for line in f:\n",
    "        print(line)\n",
    "        print(basename(line).split(extension)[0])\n",
    "        shutil.copy(basename(line).split(extension)[0] + extension,directory)\n",
    "f.close()"
   ]
  },
  {
   "cell_type": "code",
   "execution_count": null,
   "metadata": {
    "collapsed": true
   },
   "outputs": [],
   "source": []
  }
 ],
 "metadata": {
  "kernelspec": {
   "display_name": "Python [Root]",
   "language": "python",
   "name": "Python [Root]"
  },
  "language_info": {
   "codemirror_mode": {
    "name": "ipython",
    "version": 3
   },
   "file_extension": ".py",
   "mimetype": "text/x-python",
   "name": "python",
   "nbconvert_exporter": "python",
   "pygments_lexer": "ipython3",
   "version": "3.5.2"
  }
 },
 "nbformat": 4,
 "nbformat_minor": 0
}
